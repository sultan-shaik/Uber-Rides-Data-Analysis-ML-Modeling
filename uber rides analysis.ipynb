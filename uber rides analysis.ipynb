{
 "cells": [
  {
   "cell_type": "code",
   "execution_count": 1,
   "id": "5153e9bc",
   "metadata": {},
   "outputs": [],
   "source": [
    "import pandas as pd\n",
    "import numpy as np\n",
    "import matplotlib.pyplot as plt"
   ]
  },
  {
   "cell_type": "code",
   "execution_count": 2,
   "id": "39cd493f",
   "metadata": {},
   "outputs": [],
   "source": [
    "data = pd.read_excel(r\"C:\\Users\\shaik sultan\\Downloads\\uber_rides_data.xlsx\")"
   ]
  },
  {
   "cell_type": "code",
   "execution_count": 3,
   "id": "52dd5251",
   "metadata": {},
   "outputs": [
    {
     "data": {
      "text/html": [
       "<div>\n",
       "<style scoped>\n",
       "    .dataframe tbody tr th:only-of-type {\n",
       "        vertical-align: middle;\n",
       "    }\n",
       "\n",
       "    .dataframe tbody tr th {\n",
       "        vertical-align: top;\n",
       "    }\n",
       "\n",
       "    .dataframe thead th {\n",
       "        text-align: right;\n",
       "    }\n",
       "</style>\n",
       "<table border=\"1\" class=\"dataframe\">\n",
       "  <thead>\n",
       "    <tr style=\"text-align: right;\">\n",
       "      <th></th>\n",
       "      <th>ride_id</th>\n",
       "      <th>fare_amount</th>\n",
       "      <th>pickup_datetime</th>\n",
       "      <th>pickup_longitude</th>\n",
       "      <th>pickup_latitude</th>\n",
       "      <th>dropoff_longitude</th>\n",
       "      <th>dropoff_latitude</th>\n",
       "      <th>passenger_count</th>\n",
       "    </tr>\n",
       "  </thead>\n",
       "  <tbody>\n",
       "    <tr>\n",
       "      <th>0</th>\n",
       "      <td>24238194</td>\n",
       "      <td>7.5</td>\n",
       "      <td>2015-05-07 19:52:06 UTC</td>\n",
       "      <td>-73.999817</td>\n",
       "      <td>40.738354</td>\n",
       "      <td>-73.999512</td>\n",
       "      <td>40.723217</td>\n",
       "      <td>1</td>\n",
       "    </tr>\n",
       "    <tr>\n",
       "      <th>1</th>\n",
       "      <td>27835199</td>\n",
       "      <td>7.7</td>\n",
       "      <td>2009-07-17 20:04:56 UTC</td>\n",
       "      <td>-73.994355</td>\n",
       "      <td>40.728225</td>\n",
       "      <td>-73.994710</td>\n",
       "      <td>40.750325</td>\n",
       "      <td>1</td>\n",
       "    </tr>\n",
       "    <tr>\n",
       "      <th>2</th>\n",
       "      <td>44984355</td>\n",
       "      <td>12.9</td>\n",
       "      <td>2009-08-24 21:45:00 UTC</td>\n",
       "      <td>-74.005043</td>\n",
       "      <td>40.740770</td>\n",
       "      <td>-73.962565</td>\n",
       "      <td>40.772647</td>\n",
       "      <td>1</td>\n",
       "    </tr>\n",
       "    <tr>\n",
       "      <th>3</th>\n",
       "      <td>25894730</td>\n",
       "      <td>5.3</td>\n",
       "      <td>2009-06-26 08:22:21 UTC</td>\n",
       "      <td>-73.976124</td>\n",
       "      <td>40.790844</td>\n",
       "      <td>-73.965316</td>\n",
       "      <td>40.803349</td>\n",
       "      <td>3</td>\n",
       "    </tr>\n",
       "    <tr>\n",
       "      <th>4</th>\n",
       "      <td>17610152</td>\n",
       "      <td>16.0</td>\n",
       "      <td>2014-08-28 17:47:00 UTC</td>\n",
       "      <td>-73.925023</td>\n",
       "      <td>40.744085</td>\n",
       "      <td>-73.973082</td>\n",
       "      <td>40.761247</td>\n",
       "      <td>5</td>\n",
       "    </tr>\n",
       "  </tbody>\n",
       "</table>\n",
       "</div>"
      ],
      "text/plain": [
       "    ride_id  fare_amount          pickup_datetime  pickup_longitude  \\\n",
       "0  24238194          7.5  2015-05-07 19:52:06 UTC        -73.999817   \n",
       "1  27835199          7.7  2009-07-17 20:04:56 UTC        -73.994355   \n",
       "2  44984355         12.9  2009-08-24 21:45:00 UTC        -74.005043   \n",
       "3  25894730          5.3  2009-06-26 08:22:21 UTC        -73.976124   \n",
       "4  17610152         16.0  2014-08-28 17:47:00 UTC        -73.925023   \n",
       "\n",
       "   pickup_latitude  dropoff_longitude  dropoff_latitude  passenger_count  \n",
       "0        40.738354         -73.999512         40.723217                1  \n",
       "1        40.728225         -73.994710         40.750325                1  \n",
       "2        40.740770         -73.962565         40.772647                1  \n",
       "3        40.790844         -73.965316         40.803349                3  \n",
       "4        40.744085         -73.973082         40.761247                5  "
      ]
     },
     "execution_count": 3,
     "metadata": {},
     "output_type": "execute_result"
    }
   ],
   "source": [
    "data.head()"
   ]
  },
  {
   "cell_type": "code",
   "execution_count": 4,
   "id": "1d63e3d3",
   "metadata": {},
   "outputs": [
    {
     "name": "stdout",
     "output_type": "stream",
     "text": [
      "<class 'pandas.core.frame.DataFrame'>\n",
      "RangeIndex: 200000 entries, 0 to 199999\n",
      "Data columns (total 8 columns):\n",
      " #   Column             Non-Null Count   Dtype  \n",
      "---  ------             --------------   -----  \n",
      " 0   ride_id            200000 non-null  int64  \n",
      " 1   fare_amount        200000 non-null  float64\n",
      " 2   pickup_datetime    200000 non-null  object \n",
      " 3   pickup_longitude   200000 non-null  float64\n",
      " 4   pickup_latitude    200000 non-null  float64\n",
      " 5   dropoff_longitude  199999 non-null  float64\n",
      " 6   dropoff_latitude   199999 non-null  float64\n",
      " 7   passenger_count    200000 non-null  int64  \n",
      "dtypes: float64(5), int64(2), object(1)\n",
      "memory usage: 12.2+ MB\n"
     ]
    }
   ],
   "source": [
    "#cheacking info \n",
    "data.info()"
   ]
  },
  {
   "cell_type": "code",
   "execution_count": 5,
   "id": "85e371c6",
   "metadata": {
    "scrolled": true
   },
   "outputs": [
    {
     "data": {
      "text/html": [
       "<div>\n",
       "<style scoped>\n",
       "    .dataframe tbody tr th:only-of-type {\n",
       "        vertical-align: middle;\n",
       "    }\n",
       "\n",
       "    .dataframe tbody tr th {\n",
       "        vertical-align: top;\n",
       "    }\n",
       "\n",
       "    .dataframe thead th {\n",
       "        text-align: right;\n",
       "    }\n",
       "</style>\n",
       "<table border=\"1\" class=\"dataframe\">\n",
       "  <thead>\n",
       "    <tr style=\"text-align: right;\">\n",
       "      <th></th>\n",
       "      <th>ride_id</th>\n",
       "      <th>fare_amount</th>\n",
       "      <th>pickup_longitude</th>\n",
       "      <th>pickup_latitude</th>\n",
       "      <th>dropoff_longitude</th>\n",
       "      <th>dropoff_latitude</th>\n",
       "      <th>passenger_count</th>\n",
       "    </tr>\n",
       "  </thead>\n",
       "  <tbody>\n",
       "    <tr>\n",
       "      <th>count</th>\n",
       "      <td>2.000000e+05</td>\n",
       "      <td>200000.000000</td>\n",
       "      <td>200000.000000</td>\n",
       "      <td>200000.000000</td>\n",
       "      <td>199999.000000</td>\n",
       "      <td>199999.000000</td>\n",
       "      <td>200000.000000</td>\n",
       "    </tr>\n",
       "    <tr>\n",
       "      <th>mean</th>\n",
       "      <td>2.771250e+07</td>\n",
       "      <td>11.359955</td>\n",
       "      <td>-72.527638</td>\n",
       "      <td>39.935885</td>\n",
       "      <td>-72.525292</td>\n",
       "      <td>39.923890</td>\n",
       "      <td>1.684535</td>\n",
       "    </tr>\n",
       "    <tr>\n",
       "      <th>std</th>\n",
       "      <td>1.601382e+07</td>\n",
       "      <td>9.901776</td>\n",
       "      <td>11.437787</td>\n",
       "      <td>7.720539</td>\n",
       "      <td>13.117408</td>\n",
       "      <td>6.794829</td>\n",
       "      <td>1.385997</td>\n",
       "    </tr>\n",
       "    <tr>\n",
       "      <th>min</th>\n",
       "      <td>1.000000e+00</td>\n",
       "      <td>-52.000000</td>\n",
       "      <td>-1340.648410</td>\n",
       "      <td>-74.015515</td>\n",
       "      <td>-3356.666300</td>\n",
       "      <td>-881.985513</td>\n",
       "      <td>0.000000</td>\n",
       "    </tr>\n",
       "    <tr>\n",
       "      <th>25%</th>\n",
       "      <td>1.382535e+07</td>\n",
       "      <td>6.000000</td>\n",
       "      <td>-73.992065</td>\n",
       "      <td>40.734796</td>\n",
       "      <td>-73.991407</td>\n",
       "      <td>40.733823</td>\n",
       "      <td>1.000000</td>\n",
       "    </tr>\n",
       "    <tr>\n",
       "      <th>50%</th>\n",
       "      <td>2.774550e+07</td>\n",
       "      <td>8.500000</td>\n",
       "      <td>-73.981823</td>\n",
       "      <td>40.752592</td>\n",
       "      <td>-73.980093</td>\n",
       "      <td>40.753042</td>\n",
       "      <td>1.000000</td>\n",
       "    </tr>\n",
       "    <tr>\n",
       "      <th>75%</th>\n",
       "      <td>4.155530e+07</td>\n",
       "      <td>12.500000</td>\n",
       "      <td>-73.967153</td>\n",
       "      <td>40.767158</td>\n",
       "      <td>-73.963658</td>\n",
       "      <td>40.768001</td>\n",
       "      <td>2.000000</td>\n",
       "    </tr>\n",
       "    <tr>\n",
       "      <th>max</th>\n",
       "      <td>5.542357e+07</td>\n",
       "      <td>499.000000</td>\n",
       "      <td>57.418457</td>\n",
       "      <td>1644.421482</td>\n",
       "      <td>1153.572603</td>\n",
       "      <td>872.697628</td>\n",
       "      <td>208.000000</td>\n",
       "    </tr>\n",
       "  </tbody>\n",
       "</table>\n",
       "</div>"
      ],
      "text/plain": [
       "            ride_id    fare_amount  pickup_longitude  pickup_latitude  \\\n",
       "count  2.000000e+05  200000.000000     200000.000000    200000.000000   \n",
       "mean   2.771250e+07      11.359955        -72.527638        39.935885   \n",
       "std    1.601382e+07       9.901776         11.437787         7.720539   \n",
       "min    1.000000e+00     -52.000000      -1340.648410       -74.015515   \n",
       "25%    1.382535e+07       6.000000        -73.992065        40.734796   \n",
       "50%    2.774550e+07       8.500000        -73.981823        40.752592   \n",
       "75%    4.155530e+07      12.500000        -73.967153        40.767158   \n",
       "max    5.542357e+07     499.000000         57.418457      1644.421482   \n",
       "\n",
       "       dropoff_longitude  dropoff_latitude  passenger_count  \n",
       "count      199999.000000     199999.000000    200000.000000  \n",
       "mean          -72.525292         39.923890         1.684535  \n",
       "std            13.117408          6.794829         1.385997  \n",
       "min         -3356.666300       -881.985513         0.000000  \n",
       "25%           -73.991407         40.733823         1.000000  \n",
       "50%           -73.980093         40.753042         1.000000  \n",
       "75%           -73.963658         40.768001         2.000000  \n",
       "max          1153.572603        872.697628       208.000000  "
      ]
     },
     "execution_count": 5,
     "metadata": {},
     "output_type": "execute_result"
    }
   ],
   "source": [
    "# describing data\n",
    "data.describe()"
   ]
  },
  {
   "cell_type": "code",
   "execution_count": 6,
   "id": "46cfc862",
   "metadata": {},
   "outputs": [
    {
     "data": {
      "text/html": [
       "<div>\n",
       "<style scoped>\n",
       "    .dataframe tbody tr th:only-of-type {\n",
       "        vertical-align: middle;\n",
       "    }\n",
       "\n",
       "    .dataframe tbody tr th {\n",
       "        vertical-align: top;\n",
       "    }\n",
       "\n",
       "    .dataframe thead th {\n",
       "        text-align: right;\n",
       "    }\n",
       "</style>\n",
       "<table border=\"1\" class=\"dataframe\">\n",
       "  <thead>\n",
       "    <tr style=\"text-align: right;\">\n",
       "      <th></th>\n",
       "      <th>ride_id</th>\n",
       "      <th>fare_amount</th>\n",
       "      <th>pickup_datetime</th>\n",
       "      <th>pickup_longitude</th>\n",
       "      <th>pickup_latitude</th>\n",
       "      <th>dropoff_longitude</th>\n",
       "      <th>dropoff_latitude</th>\n",
       "      <th>passenger_count</th>\n",
       "    </tr>\n",
       "  </thead>\n",
       "  <tbody>\n",
       "    <tr>\n",
       "      <th>0</th>\n",
       "      <td>24238194</td>\n",
       "      <td>7.5</td>\n",
       "      <td>2015-05-07 19:52:06 UTC</td>\n",
       "      <td>-73.999817</td>\n",
       "      <td>40.738354</td>\n",
       "      <td>-73.999512</td>\n",
       "      <td>40.723217</td>\n",
       "      <td>1</td>\n",
       "    </tr>\n",
       "    <tr>\n",
       "      <th>1</th>\n",
       "      <td>27835199</td>\n",
       "      <td>7.7</td>\n",
       "      <td>2009-07-17 20:04:56 UTC</td>\n",
       "      <td>-73.994355</td>\n",
       "      <td>40.728225</td>\n",
       "      <td>-73.994710</td>\n",
       "      <td>40.750325</td>\n",
       "      <td>1</td>\n",
       "    </tr>\n",
       "    <tr>\n",
       "      <th>2</th>\n",
       "      <td>44984355</td>\n",
       "      <td>12.9</td>\n",
       "      <td>2009-08-24 21:45:00 UTC</td>\n",
       "      <td>-74.005043</td>\n",
       "      <td>40.740770</td>\n",
       "      <td>-73.962565</td>\n",
       "      <td>40.772647</td>\n",
       "      <td>1</td>\n",
       "    </tr>\n",
       "    <tr>\n",
       "      <th>3</th>\n",
       "      <td>25894730</td>\n",
       "      <td>5.3</td>\n",
       "      <td>2009-06-26 08:22:21 UTC</td>\n",
       "      <td>-73.976124</td>\n",
       "      <td>40.790844</td>\n",
       "      <td>-73.965316</td>\n",
       "      <td>40.803349</td>\n",
       "      <td>3</td>\n",
       "    </tr>\n",
       "    <tr>\n",
       "      <th>4</th>\n",
       "      <td>17610152</td>\n",
       "      <td>16.0</td>\n",
       "      <td>2014-08-28 17:47:00 UTC</td>\n",
       "      <td>-73.925023</td>\n",
       "      <td>40.744085</td>\n",
       "      <td>-73.973082</td>\n",
       "      <td>40.761247</td>\n",
       "      <td>5</td>\n",
       "    </tr>\n",
       "    <tr>\n",
       "      <th>...</th>\n",
       "      <td>...</td>\n",
       "      <td>...</td>\n",
       "      <td>...</td>\n",
       "      <td>...</td>\n",
       "      <td>...</td>\n",
       "      <td>...</td>\n",
       "      <td>...</td>\n",
       "      <td>...</td>\n",
       "    </tr>\n",
       "    <tr>\n",
       "      <th>199995</th>\n",
       "      <td>42598914</td>\n",
       "      <td>3.0</td>\n",
       "      <td>2012-10-28 10:49:00 UTC</td>\n",
       "      <td>-73.987042</td>\n",
       "      <td>40.739367</td>\n",
       "      <td>-73.986525</td>\n",
       "      <td>40.740297</td>\n",
       "      <td>1</td>\n",
       "    </tr>\n",
       "    <tr>\n",
       "      <th>199996</th>\n",
       "      <td>16382965</td>\n",
       "      <td>7.5</td>\n",
       "      <td>2014-03-14 01:09:00 UTC</td>\n",
       "      <td>-73.984722</td>\n",
       "      <td>40.736837</td>\n",
       "      <td>-74.006672</td>\n",
       "      <td>40.739620</td>\n",
       "      <td>1</td>\n",
       "    </tr>\n",
       "    <tr>\n",
       "      <th>199997</th>\n",
       "      <td>27804658</td>\n",
       "      <td>30.9</td>\n",
       "      <td>2009-06-29 00:42:00 UTC</td>\n",
       "      <td>-73.986017</td>\n",
       "      <td>40.756487</td>\n",
       "      <td>-73.858957</td>\n",
       "      <td>40.692588</td>\n",
       "      <td>2</td>\n",
       "    </tr>\n",
       "    <tr>\n",
       "      <th>199998</th>\n",
       "      <td>20259894</td>\n",
       "      <td>14.5</td>\n",
       "      <td>2015-05-20 14:56:25 UTC</td>\n",
       "      <td>-73.997124</td>\n",
       "      <td>40.725452</td>\n",
       "      <td>-73.983215</td>\n",
       "      <td>40.695415</td>\n",
       "      <td>1</td>\n",
       "    </tr>\n",
       "    <tr>\n",
       "      <th>199999</th>\n",
       "      <td>11951496</td>\n",
       "      <td>14.1</td>\n",
       "      <td>2010-05-15 04:08:00 UTC</td>\n",
       "      <td>-73.984395</td>\n",
       "      <td>40.720077</td>\n",
       "      <td>-73.985508</td>\n",
       "      <td>40.768793</td>\n",
       "      <td>1</td>\n",
       "    </tr>\n",
       "  </tbody>\n",
       "</table>\n",
       "<p>199999 rows × 8 columns</p>\n",
       "</div>"
      ],
      "text/plain": [
       "         ride_id  fare_amount          pickup_datetime  pickup_longitude  \\\n",
       "0       24238194          7.5  2015-05-07 19:52:06 UTC        -73.999817   \n",
       "1       27835199          7.7  2009-07-17 20:04:56 UTC        -73.994355   \n",
       "2       44984355         12.9  2009-08-24 21:45:00 UTC        -74.005043   \n",
       "3       25894730          5.3  2009-06-26 08:22:21 UTC        -73.976124   \n",
       "4       17610152         16.0  2014-08-28 17:47:00 UTC        -73.925023   \n",
       "...          ...          ...                      ...               ...   \n",
       "199995  42598914          3.0  2012-10-28 10:49:00 UTC        -73.987042   \n",
       "199996  16382965          7.5  2014-03-14 01:09:00 UTC        -73.984722   \n",
       "199997  27804658         30.9  2009-06-29 00:42:00 UTC        -73.986017   \n",
       "199998  20259894         14.5  2015-05-20 14:56:25 UTC        -73.997124   \n",
       "199999  11951496         14.1  2010-05-15 04:08:00 UTC        -73.984395   \n",
       "\n",
       "        pickup_latitude  dropoff_longitude  dropoff_latitude  passenger_count  \n",
       "0             40.738354         -73.999512         40.723217                1  \n",
       "1             40.728225         -73.994710         40.750325                1  \n",
       "2             40.740770         -73.962565         40.772647                1  \n",
       "3             40.790844         -73.965316         40.803349                3  \n",
       "4             40.744085         -73.973082         40.761247                5  \n",
       "...                 ...                ...               ...              ...  \n",
       "199995        40.739367         -73.986525         40.740297                1  \n",
       "199996        40.736837         -74.006672         40.739620                1  \n",
       "199997        40.756487         -73.858957         40.692588                2  \n",
       "199998        40.725452         -73.983215         40.695415                1  \n",
       "199999        40.720077         -73.985508         40.768793                1  \n",
       "\n",
       "[199999 rows x 8 columns]"
      ]
     },
     "execution_count": 6,
     "metadata": {},
     "output_type": "execute_result"
    }
   ],
   "source": [
    "# dropping null values\n",
    "data.dropna()"
   ]
  },
  {
   "cell_type": "code",
   "execution_count": 7,
   "id": "0d8f3ca3",
   "metadata": {},
   "outputs": [
    {
     "name": "stdout",
     "output_type": "stream",
     "text": [
      "<class 'pandas.core.frame.DataFrame'>\n",
      "RangeIndex: 200000 entries, 0 to 199999\n",
      "Data columns (total 8 columns):\n",
      " #   Column             Non-Null Count   Dtype  \n",
      "---  ------             --------------   -----  \n",
      " 0   ride_id            200000 non-null  int64  \n",
      " 1   fare_amount        200000 non-null  float64\n",
      " 2   pickup_datetime    200000 non-null  object \n",
      " 3   pickup_longitude   200000 non-null  float64\n",
      " 4   pickup_latitude    200000 non-null  float64\n",
      " 5   dropoff_longitude  199999 non-null  float64\n",
      " 6   dropoff_latitude   199999 non-null  float64\n",
      " 7   passenger_count    200000 non-null  int64  \n",
      "dtypes: float64(5), int64(2), object(1)\n",
      "memory usage: 12.2+ MB\n"
     ]
    }
   ],
   "source": [
    "# no null values in data dataframe\n",
    "data.info()"
   ]
  },
  {
   "cell_type": "code",
   "execution_count": 8,
   "id": "58a2be2f",
   "metadata": {},
   "outputs": [],
   "source": [
    "#chaning dtype of requried column\n",
    "# Now, the 'pickup_datetime' column is converted to datetime data type.\n",
    "data['pickup_datetime'] = pd.to_datetime(data['pickup_datetime'])"
   ]
  },
  {
   "cell_type": "code",
   "execution_count": 9,
   "id": "e0e9856b",
   "metadata": {},
   "outputs": [],
   "source": [
    "# dropping null value and finding average_fare_amount\n",
    "data.dropna(subset=['fare_amount'], inplace=True)\n",
    "average_fare_amount = data['fare_amount'].mean()"
   ]
  },
  {
   "cell_type": "code",
   "execution_count": 10,
   "id": "f7df2667",
   "metadata": {},
   "outputs": [
    {
     "data": {
      "text/plain": [
       "11.359955250000626"
      ]
     },
     "execution_count": 10,
     "metadata": {},
     "output_type": "execute_result"
    }
   ],
   "source": [
    "average_fare_amount"
   ]
  },
  {
   "cell_type": "markdown",
   "id": "2afdf386",
   "metadata": {},
   "source": [
    "### Calculate distance between each pickup and dropoff points using Haversine formula"
   ]
  },
  {
   "cell_type": "code",
   "execution_count": 11,
   "id": "4bf03aad",
   "metadata": {},
   "outputs": [],
   "source": [
    "import pandas as pd\n",
    "import numpy as np\n",
    "from math import radians, sin, cos, sqrt, atan2\n",
    "\n",
    "# Function to calculate Haversine distance\n",
    "def haversine_distance(lat1, lon1, lat2, lon2):\n",
    "    # Convert latitude and longitude from degrees to radians\n",
    "    lat1, lon1, lat2, lon2 = map(radians, [lat1, lon1, lat2, lon2])\n",
    "\n",
    "    # Haversine formula\n",
    "    dlon = lon2 - lon1\n",
    "    dlat = lat2 - lat1\n",
    "    a = sin(dlat / 2)**2 + cos(lat1) * cos(lat2) * sin(dlon / 2)**2\n",
    "    c = 2 * atan2(sqrt(a), sqrt(1 - a))\n",
    "    distance = 6371 * c  # Radius of Earth in kilometers\n",
    "\n",
    "    return distance\n",
    "\n",
    "# Calculate Haversine distance for each row, handling missing values\n",
    "data['haversine_distance'] = data.apply(\n",
    "    lambda row: haversine_distance(\n",
    "        row['pickup_latitude'],\n",
    "        row['pickup_longitude'],\n",
    "        row['dropoff_latitude'],\n",
    "        row['dropoff_longitude']\n",
    "    ) if not pd.isna(row['pickup_latitude']) and not pd.isna(row['pickup_longitude']) and not pd.isna(row['dropoff_latitude']) and not pd.isna(row['dropoff_longitude']) else np.nan,\n",
    "    axis=1\n",
    ")\n",
    "\n",
    "# Filter out rows with NaN distances\n",
    "valid_distances = data.dropna(subset=['haversine_distance'])\n",
    "\n",
    "# Calculate the median Haversine distance\n",
    "median_haversine_distance = np.median(valid_distances['haversine_distance'])"
   ]
  },
  {
   "cell_type": "code",
   "execution_count": 12,
   "id": "0f6a3e81",
   "metadata": {},
   "outputs": [
    {
     "data": {
      "text/plain": [
       "2.120992396182902"
      ]
     },
     "execution_count": 12,
     "metadata": {},
     "output_type": "execute_result"
    }
   ],
   "source": [
    "median_haversine_distance"
   ]
  },
  {
   "cell_type": "code",
   "execution_count": 13,
   "id": "1d21c51c",
   "metadata": {},
   "outputs": [
    {
     "name": "stdout",
     "output_type": "stream",
     "text": [
      "0          1.683323\n",
      "1          2.457590\n",
      "2          5.036377\n",
      "3          1.661683\n",
      "4          4.475450\n",
      "            ...    \n",
      "199995     0.112210\n",
      "199996     1.875050\n",
      "199997    12.850319\n",
      "199998     3.539715\n",
      "199999     5.417783\n",
      "Name: haversine_distance, Length: 200000, dtype: float64\n"
     ]
    }
   ],
   "source": [
    "# median haversine distance column\n",
    "print(data['haversine_distance'])"
   ]
  },
  {
   "cell_type": "code",
   "execution_count": 14,
   "id": "e3de6737",
   "metadata": {},
   "outputs": [
    {
     "data": {
      "text/plain": [
       "16409.23913531317"
      ]
     },
     "execution_count": 14,
     "metadata": {},
     "output_type": "execute_result"
    }
   ],
   "source": [
    "# maximum haversine distance between pickup and dropoff location \n",
    "data['haversine_distance'].max()"
   ]
  },
  {
   "cell_type": "code",
   "execution_count": 15,
   "id": "c4fc52c7",
   "metadata": {},
   "outputs": [
    {
     "data": {
      "text/plain": [
       "5632"
      ]
     },
     "execution_count": 15,
     "metadata": {},
     "output_type": "execute_result"
    }
   ],
   "source": [
    "# Count the number of rides with a Haversine distance of 0.0\n",
    "zero_distance_count = (data['haversine_distance'] == 0.0).sum()\n",
    "zero_distance_count"
   ]
  },
  {
   "cell_type": "code",
   "execution_count": 16,
   "id": "25047930",
   "metadata": {},
   "outputs": [
    {
     "data": {
      "text/plain": [
       "11.585317826704578"
      ]
     },
     "execution_count": 16,
     "metadata": {},
     "output_type": "execute_result"
    }
   ],
   "source": [
    "zero_distance_rides = data[data['haversine_distance'] == 0.0]\n",
    "\n",
    "# Calculate the mean 'fare_amount' for rides with 0.0 Haversine distance\n",
    "mean_fare_amount_zero_distance = zero_distance_rides['fare_amount'].mean()\n",
    "mean_fare_amount_zero_distance"
   ]
  },
  {
   "cell_type": "code",
   "execution_count": 17,
   "id": "5f3c9d3d",
   "metadata": {},
   "outputs": [
    {
     "data": {
      "text/plain": [
       "499.0"
      ]
     },
     "execution_count": 17,
     "metadata": {},
     "output_type": "execute_result"
    }
   ],
   "source": [
    "#maximum 'fare_amount' for a ride\n",
    "data['fare_amount'].max()"
   ]
  },
  {
   "cell_type": "code",
   "execution_count": 18,
   "id": "62852d1c",
   "metadata": {},
   "outputs": [],
   "source": [
    "# Find the row with the maximum 'fare_amount'\n",
    "costliest_ride = data[data['fare_amount'] == data['fare_amount'].max()]\n",
    "\n",
    "# Calculate the Haversine distance for the costliest ride\n",
    "pickup_lat = costliest_ride['pickup_latitude'].values[0]\n",
    "pickup_lon = costliest_ride['pickup_longitude'].values[0]\n",
    "dropoff_lat = costliest_ride['dropoff_latitude'].values[0]\n",
    "dropoff_lon = costliest_ride['dropoff_longitude'].values[0]"
   ]
  },
  {
   "cell_type": "code",
   "execution_count": 19,
   "id": "4a882e11",
   "metadata": {},
   "outputs": [
    {
     "data": {
      "text/plain": [
       "0.0007899213191009994"
      ]
     },
     "execution_count": 19,
     "metadata": {},
     "output_type": "execute_result"
    }
   ],
   "source": [
    "haversine_distance_costliest_ride = haversine_distance(pickup_lat, pickup_lon, dropoff_lat, dropoff_lon)\n",
    "haversine_distance_costliest_ride"
   ]
  },
  {
   "cell_type": "markdown",
   "id": "de41781e",
   "metadata": {},
   "source": [
    "#Analysis of Costliest Ride - Haversine Distance\n",
    "\n",
    "The costliest ride in the dataset has a haversine distance of approximately [insert calculated distance here] kilometers between the pickup and dropoff locations. While this distance appears unusually small for a costly ride, several factors might contribute to this observation:\n",
    "\n",
    "1. **Data Quality:** It's essential to verify the accuracy of the coordinates and fare amount in the dataset. Any anomalies or errors in data collection or entry could lead to misleading results.\n",
    "\n",
    "2. **Pricing Strategy:** Uber's pricing strategy is complex and can vary based on factors such as demand, time of day, and route. The fare amount might be influenced by surge pricing or other dynamic pricing mechanisms.\n",
    "\n",
    "3. **Short Trips:** In some cases, short-distance rides can be more expensive than longer rides due to minimum fare policies or service fees.\n",
    "\n",
    "4. **Geographical Context:** The haversine distance represents a straight-line distance between two points, which may not reflect the actual travel route. Urban areas with traffic congestion can result in shorter but more expensive routes.\n",
    "\n",
    "In summary, while the haversine distance for the costliest ride may seem unusual, it is essential to consider various factors that can influence fare amounts in rideshare services. "
   ]
  },
  {
   "cell_type": "code",
   "execution_count": 20,
   "id": "0352db42",
   "metadata": {},
   "outputs": [],
   "source": [
    "# Extract the year from 'pickup_datetime' and create a new column 'pickup_year'\n",
    "data['pickup_year'] = data['pickup_datetime'].dt.year"
   ]
  },
  {
   "cell_type": "code",
   "execution_count": 21,
   "id": "37c8b6dc",
   "metadata": {},
   "outputs": [],
   "source": [
    "# Count the number of rides recorded in the year 2014\n",
    "rides_in_2014 = len(data[data['pickup_year'] == 2014])"
   ]
  },
  {
   "cell_type": "code",
   "execution_count": 22,
   "id": "ad77fab1",
   "metadata": {},
   "outputs": [
    {
     "data": {
      "text/plain": [
       "29968"
      ]
     },
     "execution_count": 22,
     "metadata": {},
     "output_type": "execute_result"
    }
   ],
   "source": [
    "rides_in_2014"
   ]
  },
  {
   "cell_type": "code",
   "execution_count": 23,
   "id": "80483882",
   "metadata": {},
   "outputs": [
    {
     "data": {
      "image/png": "[encoded data removed]",
      "text/plain": [
       "<Figure size 720x432 with 1 Axes>"
      ]
     },
     "metadata": {
      "needs_background": "light"
     },
     "output_type": "display_data"
    }
   ],
   "source": [
    "# Group the data by pickup year and count the number of rides for each year\n",
    "rides_per_year = data['pickup_year'].value_counts().sort_index()\n",
    "\n",
    "# Create a bar chart to visualize the number of rides per year\n",
    "plt.figure(figsize=(10, 6))\n",
    "rides_per_year.plot(kind='bar', color='royalblue')\n",
    "plt.xlabel('Pickup Year')\n",
    "plt.ylabel('Number of Rides')\n",
    "plt.title('Number of Rides per Year')\n",
    "\n",
    "# Add actual values on top of the bars\n",
    "for i, v in enumerate(rides_per_year):\n",
    "    plt.text(i, v, f\"{v}\", ha='center', va='bottom', fontsize=12)\n",
    "\n",
    "plt.show()"
   ]
  },
  {
   "cell_type": "code",
   "execution_count": 24,
   "id": "f8e1ab7d",
   "metadata": {},
   "outputs": [
    {
     "data": {
      "text/plain": [
       "7687"
      ]
     },
     "execution_count": 24,
     "metadata": {},
     "output_type": "execute_result"
    }
   ],
   "source": [
    "# Extract the year and quarter from 'pickup_datetime' and create new columns 'pickup_quarter'\n",
    "\n",
    "data['pickup_quarter'] = data['pickup_datetime'].dt.quarter\n",
    "\n",
    "# Count the number of rides recorded in the first quarter of 2014\n",
    "rides_in_first_quarter_2014 = len(data[(data['pickup_year'] == 2014) & (data['pickup_quarter'] == 1)])\n",
    "rides_in_first_quarter_2014"
   ]
  },
  {
   "cell_type": "code",
   "execution_count": 25,
   "id": "7dfb881d",
   "metadata": {},
   "outputs": [
    {
     "data": {
      "image/png": "[encoded data removed]",
      "text/plain": [
       "<Figure size 576x432 with 1 Axes>"
      ]
     },
     "metadata": {
      "needs_background": "light"
     },
     "output_type": "display_data"
    }
   ],
   "source": [
    "# Filter data for the year 2014\n",
    "data_2014 = data[data['pickup_year'] == 2014]\n",
    "\n",
    "# Create a bar chart for pickup quarter in 2014\n",
    "plt.figure(figsize=(8, 6))\n",
    "bar_chart = data_2014['pickup_quarter'].value_counts().sort_index().plot(kind='bar', color='coral')\n",
    "plt.xlabel('Pickup Quarter')\n",
    "plt.ylabel('Number of Rides')\n",
    "plt.title('Number of Rides by Pickup Quarter in 2014')\n",
    "\n",
    "# Add actual values on top of the bars\n",
    "for i, v in enumerate(data_2014['pickup_quarter'].value_counts().sort_index()):\n",
    "    plt.text(i, v, str(v), ha='center', va='bottom', fontsize=12)\n",
    "\n",
    "plt.show()\n"
   ]
  },
  {
   "cell_type": "code",
   "execution_count": 26,
   "id": "8a1a68e3",
   "metadata": {},
   "outputs": [
    {
     "data": {
      "text/plain": [
       "<Figure size 720x432 with 0 Axes>"
      ]
     },
     "metadata": {},
     "output_type": "display_data"
    },
    {
     "data": {
      "image/png": "[encoded data removed]",
      "text/plain": [
       "<Figure size 432x288 with 1 Axes>"
      ]
     },
     "metadata": {
      "needs_background": "light"
     },
     "output_type": "display_data"
    }
   ],
   "source": [
    "# Line Plot for Ride Counts Over Time\n",
    "plt.figure(figsize=(10, 6))\n",
    "ride_counts = data.groupby(['pickup_year', 'pickup_quarter']).size().unstack().plot(kind='line', marker='o')\n",
    "plt.xlabel('Year')\n",
    "plt.ylabel('Number of Rides')\n",
    "plt.title('Ride Counts Over Time')\n",
    "plt.xticks(rotation=45)\n",
    "plt.legend(title='Quarter')\n",
    "plt.show()"
   ]
  },
  {
   "cell_type": "code",
   "execution_count": 27,
   "id": "3ca3ad7b",
   "metadata": {},
   "outputs": [
    {
     "name": "stderr",
     "output_type": "stream",
     "text": [
      "C:\\Users\\shaik sultan\\AppData\\Local\\Temp\\ipykernel_12836\\2443199916.py:5: SettingWithCopyWarning: \n",
      "A value is trying to be set on a copy of a slice from a DataFrame.\n",
      "Try using .loc[row_indexer,col_indexer] = value instead\n",
      "\n",
      "See the caveats in the documentation: https://pandas.pydata.org/pandas-docs/stable/user_guide/indexing.html#returning-a-view-versus-a-copy\n",
      "  rides_in_september_2010['day_of_week'] = rides_in_september_2010['pickup_datetime'].dt.dayofweek\n"
     ]
    },
    {
     "data": {
      "text/plain": [
       "'Thursday'"
      ]
     },
     "execution_count": 27,
     "metadata": {},
     "output_type": "execute_result"
    }
   ],
   "source": [
    "# Filter the DataFrame to include only rides in September 2010\n",
    "rides_in_september_2010 = data[(data['pickup_datetime'].dt.year == 2010) & (data['pickup_datetime'].dt.month == 9)]\n",
    "\n",
    "# Extract the day of the week (0 = Monday, 6 = Sunday)\n",
    "rides_in_september_2010['day_of_week'] = rides_in_september_2010['pickup_datetime'].dt.dayofweek\n",
    "\n",
    "# Count the rides for each day of the week and find the day with the maximum rides\n",
    "max_rides_day = rides_in_september_2010['day_of_week'].value_counts().idxmax()\n",
    "\n",
    "# Extract the day of the week (0 = Monday, 6 = Sunday) and store it in a new column 'ride_week_day'\n",
    "data['ride_week_day'] = data['pickup_datetime'].dt.dayofweek\n",
    "\n",
    "# Convert the day index to the day name (0 = Monday, 1 = Tuesday, ..., 6 = Sunday)\n",
    "days_of_week = ['Monday', 'Tuesday', 'Wednesday', 'Thursday', 'Friday', 'Saturday', 'Sunday']\n",
    "max_rides_day_name = days_of_week[max_rides_day]\n",
    "max_rides_day_name"
   ]
  },
  {
   "cell_type": "code",
   "execution_count": 28,
   "id": "ad35f104",
   "metadata": {
    "scrolled": false
   },
   "outputs": [
    {
     "data": {
      "image/png": "[encoded data removed]",
      "text/plain": [
       "<Figure size 576x432 with 1 Axes>"
      ]
     },
     "metadata": {
      "needs_background": "light"
     },
     "output_type": "display_data"
    }
   ],
   "source": [
    "# Filter data for September 2010\n",
    "rides_september_2010 = data[(data['pickup_datetime'].dt.year == 2010) & (data['pickup_datetime'].dt.month == 9)]\n",
    "\n",
    "# Create a bar chart for the number of rides by day of the week in September 2010\n",
    "plt.figure(figsize=(8, 6))\n",
    "bar_chart = rides_september_2010['ride_week_day'].value_counts().plot(kind='bar', color='orange')\n",
    "plt.xlabel('Day of the Week')\n",
    "plt.ylabel('Number of Rides')\n",
    "plt.title('Number of Rides by Day of the Week in September 2010')\n",
    "\n",
    "# Add actual values on top of the bars\n",
    "for i, v in enumerate(rides_september_2010['ride_week_day'].value_counts()):\n",
    "    plt.text(i, v, str(v), ha='center', va='bottom', fontsize=12)\n",
    "\n",
    "plt.show()\n"
   ]
  },
  {
   "cell_type": "code",
   "execution_count": 29,
   "id": "a0cd6543",
   "metadata": {
    "scrolled": false
   },
   "outputs": [
    {
     "data": {
      "text/plain": [
       "ride_id               0\n",
       "fare_amount           0\n",
       "pickup_datetime       0\n",
       "pickup_longitude      0\n",
       "pickup_latitude       0\n",
       "dropoff_longitude     1\n",
       "dropoff_latitude      1\n",
       "passenger_count       0\n",
       "haversine_distance    1\n",
       "pickup_year           0\n",
       "pickup_quarter        0\n",
       "ride_week_day         0\n",
       "dtype: int64"
      ]
     },
     "execution_count": 29,
     "metadata": {},
     "output_type": "execute_result"
    }
   ],
   "source": [
    "# nan values\n",
    "data.isna().sum()"
   ]
  },
  {
   "cell_type": "code",
   "execution_count": 30,
   "id": "9282cffe",
   "metadata": {},
   "outputs": [],
   "source": [
    "# Fill NaN values in 'dropoff_longitude' with mode\n",
    "data['dropoff_longitude'].fillna(data['dropoff_longitude'].mode().iloc[0], inplace=True)\n",
    "\n",
    "# Fill NaN values in 'dropoff_latitude' with mode\n",
    "data['dropoff_latitude'].fillna(data['dropoff_latitude'].mode().iloc[0], inplace=True)\n",
    "\n",
    "# Fill NaN values in 'haversine_distance' with mode\n",
    "data['haversine_distance'].fillna(data['haversine_distance'].mode().iloc[0], inplace=True)\n"
   ]
  },
  {
   "cell_type": "code",
   "execution_count": 31,
   "id": "fb1635dc",
   "metadata": {},
   "outputs": [
    {
     "data": {
      "image/png": "[encoded data removed]",
      "text/plain": [
       "<Figure size 720x576 with 2 Axes>"
      ]
     },
     "metadata": {
      "needs_background": "light"
     },
     "output_type": "display_data"
    }
   ],
   "source": [
    "import seaborn as sns\n",
    "\n",
    "# Create a heatmap to visualize correlations between numerical variables\n",
    "plt.figure(figsize=(10, 8))\n",
    "correlation_matrix = data.corr()\n",
    "sns.heatmap(correlation_matrix, annot=True, cmap='coolwarm')\n",
    "plt.title('Correlation Heatmap')\n",
    "plt.show()\n"
   ]
  },
  {
   "cell_type": "markdown",
   "id": "e0e94896",
   "metadata": {},
   "source": [
    "# Model Building"
   ]
  },
  {
   "cell_type": "code",
   "execution_count": 32,
   "id": "c6e7328b",
   "metadata": {},
   "outputs": [
    {
     "name": "stdout",
     "output_type": "stream",
     "text": [
      "Mean Absolute Error (MAE): 6.067639767327781\n",
      "Mean Squared Error (MSE): 103.91957690568988\n",
      "Root Mean Squared Error (RMSE): 10.194095197990348\n",
      "R-squared (R^2): 0.00034046739675297477\n"
     ]
    }
   ],
   "source": [
    "from sklearn.model_selection import train_test_split\n",
    "from sklearn.linear_model import LinearRegression\n",
    "from sklearn.metrics import mean_squared_error, mean_absolute_error, r2_score\n",
    "\n",
    "# Initialize and train the LinearRegression model\n",
    "# Prepare the data\n",
    "X = data[['pickup_longitude', 'pickup_latitude', 'dropoff_longitude', 'dropoff_latitude', 'passenger_count']]\n",
    "y = data['fare_amount']\n",
    "\n",
    "# Split the data into training and testing sets\n",
    "X_train, X_test, y_train, y_test = train_test_split(X, y, test_size=0.3, random_state=42)\n",
    "\n",
    "# Initialize and train the Linear Regression model\n",
    "model = LinearRegression()\n",
    "model.fit(X_train, y_train)\n",
    "\n",
    "# Make predictions on the test data\n",
    "y_pred = model.predict(X_test)\n",
    "\n",
    "# Evaluate the model\n",
    "mae = mean_absolute_error(y_test, y_pred)\n",
    "mse = mean_squared_error(y_test, y_pred)\n",
    "rmse = mean_squared_error(y_test, y_pred, squared=False)\n",
    "r2 = r2_score(y_test, y_pred)\n",
    "\n",
    "print(f\"Mean Absolute Error (MAE): {mae}\")\n",
    "print(f\"Mean Squared Error (MSE): {mse}\")\n",
    "print(f\"Root Mean Squared Error (RMSE): {rmse}\")\n",
    "print(f\"R-squared (R^2): {r2}\")"
   ]
  },
  {
   "cell_type": "markdown",
   "id": "0a768a27",
   "metadata": {},
   "source": [
    " Use the trained model to make fare predictions on new data of Secunderabad to Hyderabad with **'pickup_longitude': 78.5014**,**'pickup_latitude': 17.4423**,**'dropoff_longitude': 78.4867**,**'dropoff_latitude': 17.3850**,**'passenger_count': 2**\n"
   ]
  },
  {
   "cell_type": "code",
   "execution_count": 33,
   "id": "b721ffa1",
   "metadata": {},
   "outputs": [
    {
     "name": "stdout",
     "output_type": "stream",
     "text": [
      "Predicted Fare Amount: 10.610661377153175\n"
     ]
    }
   ],
   "source": [
    "#predicting with linear regression\n",
    "new_data = pd.DataFrame({\n",
    "    'pickup_longitude': [78.5014],\n",
    "    'pickup_latitude': [17.4423],\n",
    "    'dropoff_longitude': [78.4867],\n",
    "    'dropoff_latitude': [17.3850],\n",
    "    'passenger_count': [2]\n",
    "})\n",
    "\n",
    "fare_prediction = model.predict(new_data)\n",
    "\n",
    "print(f\"Predicted Fare Amount: {fare_prediction[0]}\")"
   ]
  },
  {
   "cell_type": "code",
   "execution_count": 35,
   "id": "a6333c32",
   "metadata": {},
   "outputs": [
    {
     "name": "stdout",
     "output_type": "stream",
     "text": [
      "Mean Absolute Error (MAE): 2.2767124051659446\n",
      "Mean Squared Error (MSE): 30.732797589820013\n",
      "Root Mean Squared Error (RMSE): 5.543716947123113\n",
      "R-squared (R^2): 0.7043643268283213\n"
     ]
    }
   ],
   "source": [
    "# Initialize and train the Random Forest Regressor model\n",
    "from sklearn.ensemble import RandomForestRegressor\n",
    "\n",
    "model = RandomForestRegressor(n_estimators=100, random_state=42)\n",
    "model.fit(X_train, y_train)\n",
    "\n",
    "# Make predictions on the test data\n",
    "y_pred = model.predict(X_test)\n",
    "\n",
    "# Evaluate the model\n",
    "mae = mean_absolute_error(y_test, y_pred)\n",
    "mse = mean_squared_error(y_test, y_pred)\n",
    "rmse = mean_squared_error(y_test, y_pred, squared=False)\n",
    "r2 = r2_score(y_test, y_pred)\n",
    "\n",
    "print(f\"Mean Absolute Error (MAE): {mae}\")\n",
    "print(f\"Mean Squared Error (MSE): {mse}\")\n",
    "print(f\"Root Mean Squared Error (RMSE): {rmse}\")\n",
    "print(f\"R-squared (R^2): {r2}\")"
   ]
  },
  {
   "cell_type": "code",
   "execution_count": 36,
   "id": "d06c11ab",
   "metadata": {},
   "outputs": [
    {
     "name": "stdout",
     "output_type": "stream",
     "text": [
      "Predicted Fare Amount: 21.07373964251449\n"
     ]
    }
   ],
   "source": [
    "#predicting with Random Forest Regressor model\n",
    "new_data = pd.DataFrame({\n",
    "    'pickup_longitude': [78.5014],\n",
    "    'pickup_latitude': [17.4423],\n",
    "    'dropoff_longitude': [78.4867],\n",
    "    'dropoff_latitude': [17.3850],\n",
    "    'passenger_count': [2]\n",
    "})\n",
    "\n",
    "fare_prediction = model.predict(new_data)\n",
    "\n",
    "print(f\"Predicted Fare Amount: {fare_prediction[0]}\")"
   ]
  },
  {
   "cell_type": "code",
   "execution_count": 37,
   "id": "baa1b24a",
   "metadata": {},
   "outputs": [
    {
     "name": "stdout",
     "output_type": "stream",
     "text": [
      "Mean Absolute Error (MAE): 3.007752307982896\n",
      "Mean Squared Error (MSE): 35.510084411769775\n",
      "Root Mean Squared Error (RMSE): 5.959033848852495\n",
      "R-squared (R^2): 0.6584089789165799\n"
     ]
    }
   ],
   "source": [
    "# Initialize and train the Gradient Boosting Regressor model\n",
    "from sklearn.ensemble import GradientBoostingRegressor\n",
    "model = GradientBoostingRegressor(n_estimators=100, random_state=42)\n",
    "model.fit(X_train, y_train)\n",
    "\n",
    "# Make predictions on the test data\n",
    "y_pred = model.predict(X_test)\n",
    "\n",
    "# Evaluate the model\n",
    "mae = mean_absolute_error(y_test, y_pred)\n",
    "mse = mean_squared_error(y_test, y_pred)\n",
    "rmse = mean_squared_error(y_test, y_pred, squared=False)\n",
    "r2 = r2_score(y_test, y_pred)\n",
    "\n",
    "print(f\"Mean Absolute Error (MAE): {mae}\")\n",
    "print(f\"Mean Squared Error (MSE): {mse}\")\n",
    "print(f\"Root Mean Squared Error (RMSE): {rmse}\")\n",
    "print(f\"R-squared (R^2): {r2}\")"
   ]
  },
  {
   "cell_type": "code",
   "execution_count": 38,
   "id": "27c641c0",
   "metadata": {},
   "outputs": [
    {
     "name": "stdout",
     "output_type": "stream",
     "text": [
      "Predicted Fare Amount: 11.251049090048037\n"
     ]
    }
   ],
   "source": [
    "#predicting with Gradient Boosting Regressor model\n",
    "new_data = pd.DataFrame({\n",
    "    'pickup_longitude': [78.5014],\n",
    "    'pickup_latitude': [17.4423],\n",
    "    'dropoff_longitude': [78.4867],\n",
    "    'dropoff_latitude': [17.3850],\n",
    "    'passenger_count': [2]\n",
    "})\n",
    "\n",
    "fare_prediction = model.predict(new_data)\n",
    "\n",
    "print(f\"Predicted Fare Amount: {fare_prediction[0]}\")"
   ]
  },
  {
   "cell_type": "markdown",
   "id": "4c836f2e",
   "metadata": {},
   "source": [
    " After training and evaluating multiple regression models, including Linear Regression and Gradient Boosting, the Random Forest Regressor model has demonstrated the best performance in predicting fare amounts for rides. Here is a summary of the results:\n",
    "\n",
    "### Random Forest Regressor Model Metrics:\n",
    "- Mean Absolute Error (MAE): 2.2767124051659446\n",
    "- Mean Squared Error (MSE): 30.732797589820013\n",
    "- Root Mean Squared Error (RMSE): 5.543716947123113\n",
    "- R-squared (R^2): 0.7043643268283213\n",
    "\n",
    "### Fare Prediction for New Data secunderabad to hyderabad:\n",
    "For a new ride with the following characteristics:\n",
    "- Pickup Longitude: 78.5014\n",
    "- Pickup Latitude: 17.4423\n",
    "- Dropoff Longitude: 78.4867\n",
    "- Dropoff Latitude: 17.3850\n",
    "- Passenger Count: 2\n",
    "\n",
    "The Random Forest Regressor model predicts a fare amount of [21.07373964251449].\n",
    "\n",
    "### Conclusion:\n",
    "Based on the evaluation metrics and the fare prediction results for the new data, the Random Forest Regressor model appears to be the most accurate and reliable for predicting fare amounts in this dataset.\n",
    "\n",
    "Further optimization and tuning of the model may lead to even better results, but for now, it represents a strong choice for fare prediction in the given context.\n",
    "\n",
    "Feel free to explore the detailed code and evaluation results in the notebook for more insights into the model's performance.\n"
   ]
  },
  {
   "cell_type": "code",
   "execution_count": 39,
   "id": "617452d7",
   "metadata": {},
   "outputs": [
    {
     "name": "stdout",
     "output_type": "stream",
     "text": [
      "Adjusted R-squared values for different models:\n",
      "Linear Regression: 0.0010267280254037114\n",
      "Random Forest Regression: 0.6186062685381135\n",
      "Gradient Boosting Regression: 0.6773386408391515\n",
      "The model with the least adjusted R-squared is: Linear Regression\n"
     ]
    }
   ],
   "source": [
    "X = data[['passenger_count', 'haversine_distance', 'ride_week_day']]\n",
    "y = data['fare_amount']\n",
    "\n",
    "# Encode categorical variables like 'ride_week_day' using one-hot encoding\n",
    "X = pd.get_dummies(X, columns=['ride_week_day'], drop_first=True)\n",
    "\n",
    "# Split the data into training and testing sets (70-30 split)\n",
    "X_train, X_test, y_train, y_test = train_test_split(X, y, test_size=0.3, random_state=42)\n",
    "\n",
    "# Initialize and train regression models\n",
    "models = {\n",
    "    'Linear Regression': LinearRegression(),\n",
    "    'Random Forest Regression': RandomForestRegressor(),\n",
    "    'Gradient Boosting Regression': GradientBoostingRegressor()\n",
    "}\n",
    "\n",
    "adjusted_r2_values = {}\n",
    "\n",
    "for model_name, model in models.items():\n",
    "    model.fit(X_train, y_train)\n",
    "    y_pred = model.predict(X_test)\n",
    "    r2 = r2_score(y_test, y_pred)\n",
    "    \n",
    "    # Calculate adjusted R-squared\n",
    "    n = X_test.shape[0]\n",
    "    p = X_test.shape[1]\n",
    "    adjusted_r2 = 1 - (1 - r2) * ((n - 1) / (n - p - 1))\n",
    "    \n",
    "    adjusted_r2_values[model_name] = adjusted_r2\n",
    "\n",
    "# Identify the model with the least adjusted R-squared\n",
    "min_adjusted_r2_model = min(adjusted_r2_values, key=adjusted_r2_values.get)\n",
    "\n",
    "# Print the results\n",
    "print(\"Adjusted R-squared values for different models:\")\n",
    "for model_name, adjusted_r2 in adjusted_r2_values.items():\n",
    "    print(f\"{model_name}: {adjusted_r2}\")\n",
    "\n",
    "print(f\"The model with the least adjusted R-squared is: {min_adjusted_r2_model}\")\n"
   ]
  },
  {
   "cell_type": "markdown",
   "id": "c28e423c",
   "metadata": {},
   "source": [
    " In our analysis of various regression models for predicting fare amounts in the rides dataset, we performed a comprehensive comparison of model performance. Among the models considered, Linear Regression demonstrated the least adjusted R-squared value. Here is a summary of our findings:\n",
    "\n",
    "### Model Evaluation Metrics:\n",
    "- Linear Regression: 0.0010267280254037114\n",
    "- Random Forest Regression: 0.6196167268808194\n",
    "- Gradient Boosting Regression: 0.6773389254219284\n",
    "\n",
    "### Linear Regression Model:\n",
    "The Linear Regression model is a fundamental and interpretable regression technique. However, in our analysis, it yielded an adjusted R-squared value of [ 0.0010267280254037114]. This indicates that the model may not be capturing the underlying relationships in the data as effectively as other models.\n",
    "\n",
    "### Model Comparison:\n",
    "- Random Forest Regressor and Gradient Boosting Regressor outperformed Linear Regression in terms of adjusted R-squared. They demonstrated better fitting to the dataset and the ability to explain variance in fare amounts.\n",
    "\n",
    "### Recommendations:\n",
    "Based on our evaluation, we recommend considering Random Forest Regressor or Gradient Boosting Regressor for fare prediction tasks. These models have shown better predictive capabilities and have achieved higher adjusted R-squared values.\n",
    "\n",
    "While Linear Regression provides interpretability, it may not be the best choice for this particular dataset due to its lower adjusted R-squared value.\n"
   ]
  }
 ],
 "metadata": {
  "kernelspec": {
   "display_name": "Python 3 (ipykernel)",
   "language": "python",
   "name": "python3"
  },
  "language_info": {
   "codemirror_mode": {
    "name": "ipython",
    "version": 3
   },
   "file_extension": ".py",
   "mimetype": "text/x-python",
   "name": "python",
   "nbconvert_exporter": "python",
   "pygments_lexer": "ipython3",
   "version": "3.9.12"
  }
 },
 "nbformat": 4,
 "nbformat_minor": 5
}
